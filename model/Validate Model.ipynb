{
 "cells": [
  {
   "cell_type": "code",
   "execution_count": 2,
   "metadata": {},
   "outputs": [],
   "source": [
    "import numpy as np\n",
    "import pandas as pd\n",
    "import seaborn as sns\n",
    "from tqdm.notebook import tqdm\n",
    "import matplotlib.pyplot as plt\n",
    "\n",
    "import torch\n",
    "import torch.nn as nn\n",
    "import torch.optim as optim\n",
    "from torch.utils.data import Dataset, DataLoader, WeightedRandomSampler\n",
    "\n",
    "from sklearn.preprocessing import MinMaxScaler    \n",
    "from sklearn.model_selection import train_test_split\n",
    "from sklearn.metrics import confusion_matrix, classification_report"
   ]
  },
  {
   "cell_type": "code",
   "execution_count": 3,
   "metadata": {
    "scrolled": true
   },
   "outputs": [
    {
     "data": {
      "text/html": [
       "<div>\n",
       "<style scoped>\n",
       "    .dataframe tbody tr th:only-of-type {\n",
       "        vertical-align: middle;\n",
       "    }\n",
       "\n",
       "    .dataframe tbody tr th {\n",
       "        vertical-align: top;\n",
       "    }\n",
       "\n",
       "    .dataframe thead th {\n",
       "        text-align: right;\n",
       "    }\n",
       "</style>\n",
       "<table border=\"1\" class=\"dataframe\">\n",
       "  <thead>\n",
       "    <tr style=\"text-align: right;\">\n",
       "      <th></th>\n",
       "      <th>career_level</th>\n",
       "      <th>available_time_per_week</th>\n",
       "      <th>competence</th>\n",
       "      <th>quiz</th>\n",
       "      <th>Category</th>\n",
       "    </tr>\n",
       "  </thead>\n",
       "  <tbody>\n",
       "    <tr>\n",
       "      <th>0</th>\n",
       "      <td>1</td>\n",
       "      <td>0.25</td>\n",
       "      <td>2</td>\n",
       "      <td>0.5</td>\n",
       "      <td>2</td>\n",
       "    </tr>\n",
       "    <tr>\n",
       "      <th>1</th>\n",
       "      <td>2</td>\n",
       "      <td>0.33</td>\n",
       "      <td>2</td>\n",
       "      <td>0.4</td>\n",
       "      <td>2</td>\n",
       "    </tr>\n",
       "    <tr>\n",
       "      <th>2</th>\n",
       "      <td>3</td>\n",
       "      <td>0.10</td>\n",
       "      <td>3</td>\n",
       "      <td>0.7</td>\n",
       "      <td>3</td>\n",
       "    </tr>\n",
       "    <tr>\n",
       "      <th>3</th>\n",
       "      <td>1</td>\n",
       "      <td>0.45</td>\n",
       "      <td>2</td>\n",
       "      <td>0.6</td>\n",
       "      <td>2</td>\n",
       "    </tr>\n",
       "    <tr>\n",
       "      <th>4</th>\n",
       "      <td>2</td>\n",
       "      <td>0.65</td>\n",
       "      <td>2</td>\n",
       "      <td>0.5</td>\n",
       "      <td>2</td>\n",
       "    </tr>\n",
       "  </tbody>\n",
       "</table>\n",
       "</div>"
      ],
      "text/plain": [
       "   career_level  available_time_per_week  competence  quiz  Category\n",
       "0             1                     0.25           2   0.5         2\n",
       "1             2                     0.33           2   0.4         2\n",
       "2             3                     0.10           3   0.7         3\n",
       "3             1                     0.45           2   0.6         2\n",
       "4             2                     0.65           2   0.5         2"
      ]
     },
     "execution_count": 3,
     "metadata": {},
     "output_type": "execute_result"
    }
   ],
   "source": [
    "df = pd.read_csv(\"./coursera.csv\")\n",
    "df = df [[\"career_level\", \"available_time_per_week\", \"competence\", \"quiz\", \"Category\"]]\n",
    "df.head()\n"
   ]
  },
  {
   "cell_type": "code",
   "execution_count": 8,
   "metadata": {},
   "outputs": [],
   "source": [
    "class MulticlassClassification(nn.Module):\n",
    "    def __init__(self, num_feature, num_class):\n",
    "        super(MulticlassClassification, self).__init__()\n",
    "        \n",
    "        self.layer_1 = nn.Linear(num_feature, 512)\n",
    "        self.layer_2 = nn.Linear(512, 128)\n",
    "        self.layer_3 = nn.Linear(128, 64)\n",
    "        self.layer_out = nn.Linear(64, num_class) \n",
    "        \n",
    "        self.relu = nn.ReLU()\n",
    "        self.dropout = nn.Dropout(p=0.2)\n",
    "        self.batchnorm1 = nn.BatchNorm1d(512)\n",
    "        self.batchnorm2 = nn.BatchNorm1d(128)\n",
    "        self.batchnorm3 = nn.BatchNorm1d(64)\n",
    "        \n",
    "    def forward(self, x):\n",
    "        x = self.layer_1(x)\n",
    "        x = self.batchnorm1(x)\n",
    "        x = self.relu(x)\n",
    "        \n",
    "        x = self.layer_2(x)\n",
    "        x = self.batchnorm2(x)\n",
    "        x = self.relu(x)\n",
    "        x = self.dropout(x)\n",
    "        \n",
    "        x = self.layer_3(x)\n",
    "        x = self.batchnorm3(x)\n",
    "        x = self.relu(x)\n",
    "        x = self.dropout(x)\n",
    "        \n",
    "        x = self.layer_out(x)\n",
    "        \n",
    "        return x"
   ]
  },
  {
   "cell_type": "code",
   "execution_count": 13,
   "metadata": {},
   "outputs": [
    {
     "ename": "ModuleAttributeError",
     "evalue": "'MulticlassClassification' object has no attribute 'copy'",
     "output_type": "error",
     "traceback": [
      "\u001b[1;31m---------------------------------------------------------------------------\u001b[0m",
      "\u001b[1;31mModuleAttributeError\u001b[0m                      Traceback (most recent call last)",
      "\u001b[1;32m<ipython-input-13-a1a77f8597bf>\u001b[0m in \u001b[0;36m<module>\u001b[1;34m\u001b[0m\n\u001b[0;32m     50\u001b[0m \u001b[1;33m\u001b[0m\u001b[0m\n\u001b[0;32m     51\u001b[0m \u001b[0mmodel\u001b[0m \u001b[1;33m=\u001b[0m \u001b[0mMulticlassClassification\u001b[0m\u001b[1;33m(\u001b[0m\u001b[0mnum_feature\u001b[0m \u001b[1;33m=\u001b[0m \u001b[1;36m4\u001b[0m\u001b[1;33m,\u001b[0m \u001b[0mnum_class\u001b[0m\u001b[1;33m=\u001b[0m\u001b[1;36m4\u001b[0m\u001b[1;33m)\u001b[0m\u001b[1;33m\u001b[0m\u001b[1;33m\u001b[0m\u001b[0m\n\u001b[1;32m---> 52\u001b[1;33m \u001b[0mmodel\u001b[0m \u001b[1;33m=\u001b[0m \u001b[0mmodel\u001b[0m\u001b[1;33m.\u001b[0m\u001b[0mload_state_dict\u001b[0m\u001b[1;33m(\u001b[0m\u001b[0mtorch\u001b[0m\u001b[1;33m.\u001b[0m\u001b[0mload\u001b[0m\u001b[1;33m(\u001b[0m\u001b[1;34m'./test2.pth'\u001b[0m\u001b[1;33m,\u001b[0m \u001b[0mmap_location\u001b[0m\u001b[1;33m=\u001b[0m\u001b[0mtorch\u001b[0m\u001b[1;33m.\u001b[0m\u001b[0mdevice\u001b[0m\u001b[1;33m(\u001b[0m\u001b[1;34m'cpu'\u001b[0m\u001b[1;33m)\u001b[0m\u001b[1;33m)\u001b[0m\u001b[1;33m)\u001b[0m\u001b[1;31m#, map_location=torch.device('cpu'))\u001b[0m\u001b[1;33m\u001b[0m\u001b[1;33m\u001b[0m\u001b[0m\n\u001b[0m",
      "\u001b[1;32mc:\\users\\acham\\appdata\\local\\programs\\python\\python37\\lib\\site-packages\\torch\\nn\\modules\\module.py\u001b[0m in \u001b[0;36mload_state_dict\u001b[1;34m(self, state_dict, strict)\u001b[0m\n\u001b[0;32m   1016\u001b[0m         \u001b[1;31m# copy state_dict so _load_from_state_dict can modify it\u001b[0m\u001b[1;33m\u001b[0m\u001b[1;33m\u001b[0m\u001b[1;33m\u001b[0m\u001b[0m\n\u001b[0;32m   1017\u001b[0m         \u001b[0mmetadata\u001b[0m \u001b[1;33m=\u001b[0m \u001b[0mgetattr\u001b[0m\u001b[1;33m(\u001b[0m\u001b[0mstate_dict\u001b[0m\u001b[1;33m,\u001b[0m \u001b[1;34m'_metadata'\u001b[0m\u001b[1;33m,\u001b[0m \u001b[1;32mNone\u001b[0m\u001b[1;33m)\u001b[0m\u001b[1;33m\u001b[0m\u001b[1;33m\u001b[0m\u001b[0m\n\u001b[1;32m-> 1018\u001b[1;33m         \u001b[0mstate_dict\u001b[0m \u001b[1;33m=\u001b[0m \u001b[0mstate_dict\u001b[0m\u001b[1;33m.\u001b[0m\u001b[0mcopy\u001b[0m\u001b[1;33m(\u001b[0m\u001b[1;33m)\u001b[0m\u001b[1;33m\u001b[0m\u001b[1;33m\u001b[0m\u001b[0m\n\u001b[0m\u001b[0;32m   1019\u001b[0m         \u001b[1;32mif\u001b[0m \u001b[0mmetadata\u001b[0m \u001b[1;32mis\u001b[0m \u001b[1;32mnot\u001b[0m \u001b[1;32mNone\u001b[0m\u001b[1;33m:\u001b[0m\u001b[1;33m\u001b[0m\u001b[1;33m\u001b[0m\u001b[0m\n\u001b[0;32m   1020\u001b[0m             \u001b[0mstate_dict\u001b[0m\u001b[1;33m.\u001b[0m\u001b[0m_metadata\u001b[0m \u001b[1;33m=\u001b[0m \u001b[0mmetadata\u001b[0m\u001b[1;33m\u001b[0m\u001b[1;33m\u001b[0m\u001b[0m\n",
      "\u001b[1;32mc:\\users\\acham\\appdata\\local\\programs\\python\\python37\\lib\\site-packages\\torch\\nn\\modules\\module.py\u001b[0m in \u001b[0;36m__getattr__\u001b[1;34m(self, name)\u001b[0m\n\u001b[0;32m    770\u001b[0m                 \u001b[1;32mreturn\u001b[0m \u001b[0mmodules\u001b[0m\u001b[1;33m[\u001b[0m\u001b[0mname\u001b[0m\u001b[1;33m]\u001b[0m\u001b[1;33m\u001b[0m\u001b[1;33m\u001b[0m\u001b[0m\n\u001b[0;32m    771\u001b[0m         raise ModuleAttributeError(\"'{}' object has no attribute '{}'\".format(\n\u001b[1;32m--> 772\u001b[1;33m             type(self).__name__, name))\n\u001b[0m\u001b[0;32m    773\u001b[0m \u001b[1;33m\u001b[0m\u001b[0m\n\u001b[0;32m    774\u001b[0m     \u001b[1;32mdef\u001b[0m \u001b[0m__setattr__\u001b[0m\u001b[1;33m(\u001b[0m\u001b[0mself\u001b[0m\u001b[1;33m,\u001b[0m \u001b[0mname\u001b[0m\u001b[1;33m:\u001b[0m \u001b[0mstr\u001b[0m\u001b[1;33m,\u001b[0m \u001b[0mvalue\u001b[0m\u001b[1;33m:\u001b[0m \u001b[0mUnion\u001b[0m\u001b[1;33m[\u001b[0m\u001b[0mTensor\u001b[0m\u001b[1;33m,\u001b[0m \u001b[1;34m'Module'\u001b[0m\u001b[1;33m]\u001b[0m\u001b[1;33m)\u001b[0m \u001b[1;33m->\u001b[0m \u001b[1;32mNone\u001b[0m\u001b[1;33m:\u001b[0m\u001b[1;33m\u001b[0m\u001b[1;33m\u001b[0m\u001b[0m\n",
      "\u001b[1;31mModuleAttributeError\u001b[0m: 'MulticlassClassification' object has no attribute 'copy'"
     ]
    }
   ],
   "source": [
    "device = torch.device(\"cuda:0\" if torch.cuda.is_available() else \"cpu\")\n",
    "\n",
    "3# Split into train+val and test\n",
    "#X = df.iloc[:, 0:-1]\n",
    "#y = df.iloc[:, -1]\n",
    "\n",
    "#X_trainval, X_test, y_trainval, y_test = train_test_split(X, y, test_size=0.2, stratify=y, random_state=69)\n",
    "\n",
    "\n",
    "career_level = 3\n",
    "available_time_per_week = 0.9\n",
    "competence = 3\n",
    "quiz = 0.9\n",
    "\n",
    "\n",
    "data = [[3,0.45,2,0.4],[career_level,available_time_per_week,competence,quiz]]\n",
    "# Create the pandas DataFrame \n",
    "df = pd.DataFrame(data, columns = ['career_level', 'available_time_per_week','competence', 'quiz'])\n",
    "\n",
    "X_test = pd.read_csv('test.csv')\n",
    "\n",
    "X_test = X_test[-4:-1]\n",
    "\n",
    "#X_test = df\n",
    "\n",
    "X_test.loc[4] = [career_level,available_time_per_week,competence,quiz]\n",
    "scaler = MinMaxScaler()\n",
    "X_test = scaler.fit_transform(X_test)\n",
    "X_test = np.array(X_test)\n",
    "\n",
    "\n",
    "class ClassifierDataset(Dataset):\n",
    "    \n",
    "    def __init__(self, X_data):\n",
    "        self.X_data = X_data\n",
    "        \n",
    "    def __getitem__(self, index):\n",
    "        return self.X_data[index]\n",
    "        \n",
    "    def __len__ (self):\n",
    "        return len(self.X_data)\n",
    "\n",
    "\n",
    "\n",
    "test_dataset = ClassifierDataset(torch.from_numpy(X_test).float())\n",
    "\n",
    "\n",
    "test_loader = DataLoader(dataset=test_dataset, batch_size=1)\n",
    "\n",
    "\n",
    "model = MulticlassClassification(num_feature = 4, num_class=4)\n",
    "model = model.load_state_dict(torch.load('./test2.pth', map_location=torch.device('cpu')))#, map_location=torch.device('cpu'))\n"
   ]
  },
  {
   "cell_type": "code",
   "execution_count": 301,
   "metadata": {},
   "outputs": [],
   "source": [
    "y_pred_list = []\n",
    "with torch.no_grad():\n",
    "    model.eval()\n",
    "    for X_batch in test_loader:\n",
    "        X_batch = X_batch.to(device)\n",
    "        y_test_pred = model(X_batch)\n",
    "        y_pred_softmax = torch.log_softmax(y_test_pred, dim = 1)\n",
    "        _, y_pred_tags = torch.max(y_pred_softmax, dim = 1)\n",
    "        \n",
    "        y_pred_list.append(y_pred_tags.cpu().numpy())\n",
    "y_pred_list = [a.squeeze().tolist() for a in y_pred_list]"
   ]
  },
  {
   "cell_type": "code",
   "execution_count": 302,
   "metadata": {},
   "outputs": [
    {
     "data": {
      "text/plain": [
       "[2, 3, 1, 3]"
      ]
     },
     "execution_count": 302,
     "metadata": {},
     "output_type": "execute_result"
    }
   ],
   "source": [
    "y_pred_list"
   ]
  },
  {
   "cell_type": "code",
   "execution_count": 303,
   "metadata": {},
   "outputs": [
    {
     "name": "stdout",
     "output_type": "stream",
     "text": [
      "1.6.0+cpu\n"
     ]
    }
   ],
   "source": [
    "print(torch.__version__)"
   ]
  },
  {
   "cell_type": "code",
   "execution_count": 304,
   "metadata": {},
   "outputs": [
    {
     "name": "stdout",
     "output_type": "stream",
     "text": [
      "Requirement already up-to-date: torch in c:\\users\\acham\\appdata\\local\\programs\\python\\python37\\lib\\site-packages (1.6.0+cpu)\n",
      "Requirement already satisfied, skipping upgrade: future in c:\\users\\acham\\appdata\\local\\programs\\python\\python37\\lib\\site-packages (from torch) (0.18.2)\n",
      "Requirement already satisfied, skipping upgrade: numpy in c:\\users\\acham\\appdata\\local\\programs\\python\\python37\\lib\\site-packages (from torch) (1.17.4)\n"
     ]
    },
    {
     "name": "stderr",
     "output_type": "stream",
     "text": [
      "WARNING: You are using pip version 20.0.2; however, version 20.2.1 is available.\n",
      "You should consider upgrading via the 'c:\\users\\acham\\appdata\\local\\programs\\python\\python37\\python.exe -m pip install --upgrade pip' command.\n"
     ]
    }
   ],
   "source": [
    "!pip install --upgrade torch"
   ]
  },
  {
   "cell_type": "code",
   "execution_count": 2,
   "metadata": {},
   "outputs": [],
   "source": [
    "\n",
    "import csv \n",
    "import json \n",
    "  \n",
    "  \n",
    "# Function to convert a CSV to JSON \n",
    "# Takes the file paths as arguments \n",
    "def make_json(csvFilePath, jsonFilePath): \n",
    "      \n",
    "    # create a dictionary \n",
    "    data = {} \n",
    "      \n",
    "    # Open a csv reader called DictReader \n",
    "    with open(csvFilePath, encoding='utf-8') as csvf: \n",
    "        csvReader = csv.DictReader(csvf) \n",
    "          \n",
    "        # Convert each row into a dictionary  \n",
    "        # and add it to data \n",
    "        for rows in csvReader: \n",
    "            \n",
    "            # Assuming a column named 'No' to \n",
    "            # be the primary key \n",
    "            key = rows['\\ufeffName'] \n",
    "            data[key] = rows \n",
    "  \n",
    "    # Open a json writer, and use the json.dumps()  \n",
    "    # function to dump data \n",
    "    with open(jsonFilePath, 'w', encoding='utf-8') as jsonf: \n",
    "        jsonf.write(json.dumps(data, indent=4)) \n",
    "          \n",
    "# Driver Code \n",
    "  \n",
    "# Decide the two file paths according to your  \n",
    "# computer system \n",
    "csvFilePath = './coursera.csv'\n",
    "jsonFilePath = './coursera.json'\n",
    "  \n",
    "# Call the make_json function \n",
    "make_json(csvFilePath, jsonFilePath)"
   ]
  },
  {
   "cell_type": "code",
   "execution_count": 306,
   "metadata": {},
   "outputs": [
    {
     "name": "stdout",
     "output_type": "stream",
     "text": [
      "[{\"\\ufeffName\": \"Probabilistic Graphical Models 2: Inference\", \"Url\": \"https://coursera.org/learn/probabilistic-graphical-models-2-inference\", \"Rating\": \"4.6\", \"Difficulty\": \"Advanced Level\", \"Tags\": \"['Data Science', 'Machine Learning']\", \"career_level\": \"3\", \"available_time_per_week\": \"0.1\", \"competence\": \"3\", \"quiz\": \"0.7\", \"Category\": \"3\"}, {\"\\ufeffName\": \"Introduction to Deep Learning\", \"Url\": \"https://coursera.org/learn/intro-to-deep-learning\", \"Rating\": \"4.6\", \"Difficulty\": \"Advanced Level\", \"Tags\": \"['Data Science', 'Machine Learning']\", \"career_level\": \"3\", \"available_time_per_week\": \"0.25\", \"competence\": \"3\", \"quiz\": \"0.9\", \"Category\": \"3\"}, {\"\\ufeffName\": \"Production Machine Learning Systems\", \"Url\": \"https://coursera.org/learn/gcp-production-ml-systems\", \"Rating\": \"4.6\", \"Difficulty\": \"Advanced Level\", \"Tags\": \"['Data Science', 'Machine Learning']\", \"career_level\": \"1\", \"available_time_per_week\": \"0.25\", \"competence\": \"3\", \"quiz\": \"0.8\", \"Category\": \"3\"}, {\"\\ufeffName\": \"Practical Reinforcement Learning\", \"Url\": \"https://coursera.org/learn/practical-rl\", \"Rating\": \"4.2\", \"Difficulty\": \"Advanced Level\", \"Tags\": \"['Data Science', 'Machine Learning']\", \"career_level\": \"2\", \"available_time_per_week\": \"0.1\", \"competence\": \"3\", \"quiz\": \"0.7\", \"Category\": \"3\"}, {\"\\ufeffName\": \"Recommendation Systems with TensorFlow on GCP\", \"Url\": \"https://coursera.org/learn/recommendation-models-gcp\", \"Rating\": \"4.5\", \"Difficulty\": \"Advanced Level\", \"Tags\": \"['Data Science', 'Machine Learning']\", \"career_level\": \"2\", \"available_time_per_week\": \"0.25\", \"competence\": \"3\", \"quiz\": \"0.8\", \"Category\": \"3\"}, {\"\\ufeffName\": \"Sequence Models for Time Series and Natural Language Processing\", \"Url\": \"https://coursera.org/learn/sequence-models-tensorflow-gcp\", \"Rating\": \"4.4\", \"Difficulty\": \"Advanced Level\", \"Tags\": \"['Data Science', 'Machine Learning']\", \"career_level\": \"2\", \"available_time_per_week\": \"0.33\", \"competence\": \"3\", \"quiz\": \"1\", \"Category\": \"3\"}, {\"\\ufeffName\": \"Probabilistic Graphical Models 1: Representation\", \"Url\": \"https://coursera.org/learn/probabilistic-graphical-models\", \"Rating\": \"4.7\", \"Difficulty\": \"Advanced Level\", \"Tags\": \"['Data Science', 'Machine Learning']\", \"career_level\": \"3\", \"available_time_per_week\": \"0.45\", \"competence\": \"3\", \"quiz\": \"0.7\", \"Category\": \"3\"}, {\"\\ufeffName\": \"Big Data Applications: Machine Learning at Scale\", \"Url\": \"https://coursera.org/learn/machine-learning-applications-big-data\", \"Rating\": \"3.8\", \"Difficulty\": \"Advanced Level\", \"Tags\": \"['Data Science', 'Machine Learning']\", \"career_level\": \"1\", \"available_time_per_week\": \"0.1\", \"competence\": \"3\", \"quiz\": \"0.8\", \"Category\": \"3\"}, {\"\\ufeffName\": \"Developing AI Applications on Azure\", \"Url\": \"https://coursera.org/learn/developing-ai-applications-azure\", \"Rating\": \"None\", \"Difficulty\": \"Advanced Level\", \"Tags\": \"['Data Science', 'Machine Learning']\", \"career_level\": \"2\", \"available_time_per_week\": \"0.65\", \"competence\": \"3\", \"quiz\": \"0.9\", \"Category\": \"3\"}, {\"\\ufeffName\": \"Natural Language Processing\", \"Url\": \"https://coursera.org/learn/language-processing\", \"Rating\": \"4.6\", \"Difficulty\": \"Advanced Level\", \"Tags\": \"['Data Science', 'Machine Learning']\", \"career_level\": \"1\", \"available_time_per_week\": \"0.33\", \"competence\": \"3\", \"quiz\": \"1\", \"Category\": \"3\"}, {\"\\ufeffName\": \"AI Workflow: Machine Learning, Visual Recognition and NLP\", \"Url\": \"https://coursera.org/learn/ibm-ai-workflow-machine-learning-vr-nlp\", \"Rating\": \"4.8\", \"Difficulty\": \"Advanced Level\", \"Tags\": \"['Data Science', 'Machine Learning']\", \"career_level\": \"1\", \"available_time_per_week\": \"0.65\", \"competence\": \"3\", \"quiz\": \"0.7\", \"Category\": \"3\"}, {\"\\ufeffName\": \"AI Workflow: Data Analysis and Hypothesis Testing\", \"Url\": \"https://coursera.org/learn/ibm-ai-workflow-data-analysis-hypothesis-testing\", \"Rating\": \"4.9\", \"Difficulty\": \"Advanced Level\", \"Tags\": \"['Data Science', 'Machine Learning']\", \"career_level\": \"3\", \"available_time_per_week\": \"0.65\", \"competence\": \"3\", \"quiz\": \"0.8\", \"Category\": \"3\"}, {\"\\ufeffName\": \"AI Capstone Project with Deep Learning\", \"Url\": \"https://coursera.org/learn/ai-deep-learning-capstone\", \"Rating\": \"None\", \"Difficulty\": \"Advanced Level\", \"Tags\": \"['Data Science', 'Machine Learning']\", \"career_level\": \"2\", \"available_time_per_week\": \"0.45\", \"competence\": \"3\", \"quiz\": \"0.9\", \"Category\": \"3\"}, {\"\\ufeffName\": \"Probabilistic Graphical Models 3: Learning\", \"Url\": \"https://coursera.org/learn/probabilistic-graphical-models-3-learning\", \"Rating\": \"4.6\", \"Difficulty\": \"Advanced Level\", \"Tags\": \"['Data Science', 'Machine Learning']\", \"career_level\": \"3\", \"available_time_per_week\": \"0.65\", \"competence\": \"3\", \"quiz\": \"1\", \"Category\": \"3\"}, {\"\\ufeffName\": \"Applied AI with DeepLearning\", \"Url\": \"https://coursera.org/learn/ai\", \"Rating\": \"4.5\", \"Difficulty\": \"Advanced Level\", \"Tags\": \"['Data Science', 'Machine Learning']\", \"career_level\": \"3\", \"available_time_per_week\": \"0.45\", \"competence\": \"3\", \"quiz\": \"0.7\", \"Category\": \"3\"}, {\"\\ufeffName\": \"Reinforcement Learning in Finance\", \"Url\": \"https://coursera.org/learn/reinforcement-learning-in-finance\", \"Rating\": \"3.6\", \"Difficulty\": \"Advanced Level\", \"Tags\": \"['Data Science', 'Machine Learning']\", \"career_level\": \"3\", \"available_time_per_week\": \"0.33\", \"competence\": \"3\", \"quiz\": \"0.8\", \"Category\": \"3\"}, {\"\\ufeffName\": \"Advanced Machine Learning and Signal Processing\", \"Url\": \"https://coursera.org/learn/advanced-machine-learning-signal-processing\", \"Rating\": \"4.5\", \"Difficulty\": \"Advanced Level\", \"Tags\": \"['Data Science', 'Machine Learning']\", \"career_level\": \"2\", \"available_time_per_week\": \"0.45\", \"competence\": \"3\", \"quiz\": \"0.9\", \"Category\": \"3\"}, {\"\\ufeffName\": \"Bayesian Methods for Machine Learning\", \"Url\": \"https://coursera.org/learn/bayesian-methods-in-machine-learning\", \"Rating\": \"4.6\", \"Difficulty\": \"Advanced Level\", \"Tags\": \"['Data Science', 'Machine Learning']\", \"career_level\": \"3\", \"available_time_per_week\": \"0.65\", \"competence\": \"3\", \"quiz\": \"1\", \"Category\": \"3\"}, {\"\\ufeffName\": \"AI Workflow: Enterprise Model Deployment\", \"Url\": \"https://coursera.org/learn/ibm-ai-workflow-machine-learning-model-deployment\", \"Rating\": \"None\", \"Difficulty\": \"Advanced Level\", \"Tags\": \"['Data Science', 'Machine Learning']\", \"career_level\": \"2\", \"available_time_per_week\": \"0.65\", \"competence\": \"3\", \"quiz\": \"0.7\", \"Category\": \"3\"}, {\"\\ufeffName\": \"Big Data Services: Capstone Project\", \"Url\": \"https://coursera.org/learn/big-data-services\", \"Rating\": \"None\", \"Difficulty\": \"Advanced Level\", \"Tags\": \"['Data Science', 'Machine Learning']\", \"career_level\": \"1\", \"available_time_per_week\": \"0.33\", \"competence\": \"3\", \"quiz\": \"0.8\", \"Category\": \"3\"}, {\"\\ufeffName\": \"Image Understanding with TensorFlow on GCP\", \"Url\": \"https://coursera.org/learn/image-understanding-tensorflow-gcp\", \"Rating\": \"4.6\", \"Difficulty\": \"Advanced Level\", \"Tags\": \"['Data Science', 'Machine Learning']\", \"career_level\": \"1\", \"available_time_per_week\": \"0.33\", \"competence\": \"3\", \"quiz\": \"0.9\", \"Category\": \"3\"}, {\"\\ufeffName\": \"Advanced Data Science Capstone\", \"Url\": \"https://coursera.org/learn/advanced-data-science-capstone\", \"Rating\": \"4.6\", \"Difficulty\": \"Advanced Level\", \"Tags\": \"['Data Science', 'Machine Learning']\", \"career_level\": \"3\", \"available_time_per_week\": \"0.33\", \"competence\": \"3\", \"quiz\": \"1\", \"Category\": \"3\"}, {\"\\ufeffName\": \"AI Workflow: AI in Production\", \"Url\": \"https://coursera.org/learn/ibm-ai-workflow-ai-production\", \"Rating\": \"None\", \"Difficulty\": \"Advanced Level\", \"Tags\": \"['Data Science', 'Machine Learning']\", \"career_level\": \"2\", \"available_time_per_week\": \"0.65\", \"competence\": \"3\", \"quiz\": \"0.7\", \"Category\": \"3\"}]\n"
     ]
    }
   ],
   "source": [
    "import json\n",
    "\n",
    "with open('./coursera.json') as f:\n",
    "    rec = json.load(f)\n",
    "    \n",
    "\n",
    "final = []\n",
    "\n",
    "for key, value in rec.items():\n",
    "    #print(value)\n",
    "    for k,v in value.items():\n",
    "        if k == \"Category\" and v == str(y_pred_list[-1]):\n",
    "            final.append(value)\n",
    "            \n",
    "rec1 = json.dumps(final)\n",
    "print(rec1)\n"
   ]
  },
  {
   "cell_type": "code",
   "execution_count": null,
   "metadata": {},
   "outputs": [],
   "source": []
  }
 ],
 "metadata": {
  "kernelspec": {
   "display_name": "Python 3",
   "language": "python",
   "name": "python3"
  },
  "language_info": {
   "codemirror_mode": {
    "name": "ipython",
    "version": 3
   },
   "file_extension": ".py",
   "mimetype": "text/x-python",
   "name": "python",
   "nbconvert_exporter": "python",
   "pygments_lexer": "ipython3",
   "version": "3.7.6"
  }
 },
 "nbformat": 4,
 "nbformat_minor": 4
}
